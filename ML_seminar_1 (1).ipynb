{
  "cells": [
    {
      "cell_type": "code",
      "execution_count": 1,
      "metadata": {
        "colab": {
          "base_uri": "https://localhost:8080/",
          "height": 311
        },
        "id": "zmHJARWVUZkW",
        "outputId": "07fbffb8-c7bd-45c2-8482-c15e1909732e"
      },
      "outputs": [
        {
          "output_type": "execute_result",
          "data": {
            "text/plain": [
              "                         State                  District      Crop     Year  \\\n",
              "0  Andaman and Nicobar Islands                  NICOBARS  Arecanut  2001-02   \n",
              "1  Andaman and Nicobar Islands                  NICOBARS  Arecanut  2002-03   \n",
              "2  Andaman and Nicobar Islands                  NICOBARS  Arecanut  2003-04   \n",
              "3  Andaman and Nicobar Islands  NORTH AND MIDDLE ANDAMAN  Arecanut  2001-02   \n",
              "4  Andaman and Nicobar Islands            SOUTH ANDAMANS  Arecanut  2002-03   \n",
              "\n",
              "       Season    Area Area Units  Production Production Units     Yield  \n",
              "0      Kharif  1254.0    Hectare      2061.0           Tonnes  1.643541  \n",
              "1  Whole Year  1258.0    Hectare      2083.0           Tonnes  1.655803  \n",
              "2  Whole Year  1261.0    Hectare      1525.0           Tonnes  1.209358  \n",
              "3      Kharif  3100.0    Hectare      5239.0           Tonnes  1.690000  \n",
              "4  Whole Year  3105.0    Hectare      5267.0           Tonnes  1.696296  "
            ],
            "text/html": [
              "\n",
              "  <div id=\"df-b7dcf8e4-6fcf-4243-b335-25f446f92c7b\" class=\"colab-df-container\">\n",
              "    <div>\n",
              "<style scoped>\n",
              "    .dataframe tbody tr th:only-of-type {\n",
              "        vertical-align: middle;\n",
              "    }\n",
              "\n",
              "    .dataframe tbody tr th {\n",
              "        vertical-align: top;\n",
              "    }\n",
              "\n",
              "    .dataframe thead th {\n",
              "        text-align: right;\n",
              "    }\n",
              "</style>\n",
              "<table border=\"1\" class=\"dataframe\">\n",
              "  <thead>\n",
              "    <tr style=\"text-align: right;\">\n",
              "      <th></th>\n",
              "      <th>State</th>\n",
              "      <th>District</th>\n",
              "      <th>Crop</th>\n",
              "      <th>Year</th>\n",
              "      <th>Season</th>\n",
              "      <th>Area</th>\n",
              "      <th>Area Units</th>\n",
              "      <th>Production</th>\n",
              "      <th>Production Units</th>\n",
              "      <th>Yield</th>\n",
              "    </tr>\n",
              "  </thead>\n",
              "  <tbody>\n",
              "    <tr>\n",
              "      <th>0</th>\n",
              "      <td>Andaman and Nicobar Islands</td>\n",
              "      <td>NICOBARS</td>\n",
              "      <td>Arecanut</td>\n",
              "      <td>2001-02</td>\n",
              "      <td>Kharif</td>\n",
              "      <td>1254.0</td>\n",
              "      <td>Hectare</td>\n",
              "      <td>2061.0</td>\n",
              "      <td>Tonnes</td>\n",
              "      <td>1.643541</td>\n",
              "    </tr>\n",
              "    <tr>\n",
              "      <th>1</th>\n",
              "      <td>Andaman and Nicobar Islands</td>\n",
              "      <td>NICOBARS</td>\n",
              "      <td>Arecanut</td>\n",
              "      <td>2002-03</td>\n",
              "      <td>Whole Year</td>\n",
              "      <td>1258.0</td>\n",
              "      <td>Hectare</td>\n",
              "      <td>2083.0</td>\n",
              "      <td>Tonnes</td>\n",
              "      <td>1.655803</td>\n",
              "    </tr>\n",
              "    <tr>\n",
              "      <th>2</th>\n",
              "      <td>Andaman and Nicobar Islands</td>\n",
              "      <td>NICOBARS</td>\n",
              "      <td>Arecanut</td>\n",
              "      <td>2003-04</td>\n",
              "      <td>Whole Year</td>\n",
              "      <td>1261.0</td>\n",
              "      <td>Hectare</td>\n",
              "      <td>1525.0</td>\n",
              "      <td>Tonnes</td>\n",
              "      <td>1.209358</td>\n",
              "    </tr>\n",
              "    <tr>\n",
              "      <th>3</th>\n",
              "      <td>Andaman and Nicobar Islands</td>\n",
              "      <td>NORTH AND MIDDLE ANDAMAN</td>\n",
              "      <td>Arecanut</td>\n",
              "      <td>2001-02</td>\n",
              "      <td>Kharif</td>\n",
              "      <td>3100.0</td>\n",
              "      <td>Hectare</td>\n",
              "      <td>5239.0</td>\n",
              "      <td>Tonnes</td>\n",
              "      <td>1.690000</td>\n",
              "    </tr>\n",
              "    <tr>\n",
              "      <th>4</th>\n",
              "      <td>Andaman and Nicobar Islands</td>\n",
              "      <td>SOUTH ANDAMANS</td>\n",
              "      <td>Arecanut</td>\n",
              "      <td>2002-03</td>\n",
              "      <td>Whole Year</td>\n",
              "      <td>3105.0</td>\n",
              "      <td>Hectare</td>\n",
              "      <td>5267.0</td>\n",
              "      <td>Tonnes</td>\n",
              "      <td>1.696296</td>\n",
              "    </tr>\n",
              "  </tbody>\n",
              "</table>\n",
              "</div>\n",
              "    <div class=\"colab-df-buttons\">\n",
              "\n",
              "  <div class=\"colab-df-container\">\n",
              "    <button class=\"colab-df-convert\" onclick=\"convertToInteractive('df-b7dcf8e4-6fcf-4243-b335-25f446f92c7b')\"\n",
              "            title=\"Convert this dataframe to an interactive table.\"\n",
              "            style=\"display:none;\">\n",
              "\n",
              "  <svg xmlns=\"http://www.w3.org/2000/svg\" height=\"24px\" viewBox=\"0 -960 960 960\">\n",
              "    <path d=\"M120-120v-720h720v720H120Zm60-500h600v-160H180v160Zm220 220h160v-160H400v160Zm0 220h160v-160H400v160ZM180-400h160v-160H180v160Zm440 0h160v-160H620v160ZM180-180h160v-160H180v160Zm440 0h160v-160H620v160Z\"/>\n",
              "  </svg>\n",
              "    </button>\n",
              "\n",
              "  <style>\n",
              "    .colab-df-container {\n",
              "      display:flex;\n",
              "      gap: 12px;\n",
              "    }\n",
              "\n",
              "    .colab-df-convert {\n",
              "      background-color: #E8F0FE;\n",
              "      border: none;\n",
              "      border-radius: 50%;\n",
              "      cursor: pointer;\n",
              "      display: none;\n",
              "      fill: #1967D2;\n",
              "      height: 32px;\n",
              "      padding: 0 0 0 0;\n",
              "      width: 32px;\n",
              "    }\n",
              "\n",
              "    .colab-df-convert:hover {\n",
              "      background-color: #E2EBFA;\n",
              "      box-shadow: 0px 1px 2px rgba(60, 64, 67, 0.3), 0px 1px 3px 1px rgba(60, 64, 67, 0.15);\n",
              "      fill: #174EA6;\n",
              "    }\n",
              "\n",
              "    .colab-df-buttons div {\n",
              "      margin-bottom: 4px;\n",
              "    }\n",
              "\n",
              "    [theme=dark] .colab-df-convert {\n",
              "      background-color: #3B4455;\n",
              "      fill: #D2E3FC;\n",
              "    }\n",
              "\n",
              "    [theme=dark] .colab-df-convert:hover {\n",
              "      background-color: #434B5C;\n",
              "      box-shadow: 0px 1px 3px 1px rgba(0, 0, 0, 0.15);\n",
              "      filter: drop-shadow(0px 1px 2px rgba(0, 0, 0, 0.3));\n",
              "      fill: #FFFFFF;\n",
              "    }\n",
              "  </style>\n",
              "\n",
              "    <script>\n",
              "      const buttonEl =\n",
              "        document.querySelector('#df-b7dcf8e4-6fcf-4243-b335-25f446f92c7b button.colab-df-convert');\n",
              "      buttonEl.style.display =\n",
              "        google.colab.kernel.accessAllowed ? 'block' : 'none';\n",
              "\n",
              "      async function convertToInteractive(key) {\n",
              "        const element = document.querySelector('#df-b7dcf8e4-6fcf-4243-b335-25f446f92c7b');\n",
              "        const dataTable =\n",
              "          await google.colab.kernel.invokeFunction('convertToInteractive',\n",
              "                                                    [key], {});\n",
              "        if (!dataTable) return;\n",
              "\n",
              "        const docLinkHtml = 'Like what you see? Visit the ' +\n",
              "          '<a target=\"_blank\" href=https://colab.research.google.com/notebooks/data_table.ipynb>data table notebook</a>'\n",
              "          + ' to learn more about interactive tables.';\n",
              "        element.innerHTML = '';\n",
              "        dataTable['output_type'] = 'display_data';\n",
              "        await google.colab.output.renderOutput(dataTable, element);\n",
              "        const docLink = document.createElement('div');\n",
              "        docLink.innerHTML = docLinkHtml;\n",
              "        element.appendChild(docLink);\n",
              "      }\n",
              "    </script>\n",
              "  </div>\n",
              "\n",
              "\n",
              "<div id=\"df-b0102034-576c-45a2-91a7-d69f527631bc\">\n",
              "  <button class=\"colab-df-quickchart\" onclick=\"quickchart('df-b0102034-576c-45a2-91a7-d69f527631bc')\"\n",
              "            title=\"Suggest charts\"\n",
              "            style=\"display:none;\">\n",
              "\n",
              "<svg xmlns=\"http://www.w3.org/2000/svg\" height=\"24px\"viewBox=\"0 0 24 24\"\n",
              "     width=\"24px\">\n",
              "    <g>\n",
              "        <path d=\"M19 3H5c-1.1 0-2 .9-2 2v14c0 1.1.9 2 2 2h14c1.1 0 2-.9 2-2V5c0-1.1-.9-2-2-2zM9 17H7v-7h2v7zm4 0h-2V7h2v10zm4 0h-2v-4h2v4z\"/>\n",
              "    </g>\n",
              "</svg>\n",
              "  </button>\n",
              "\n",
              "<style>\n",
              "  .colab-df-quickchart {\n",
              "      --bg-color: #E8F0FE;\n",
              "      --fill-color: #1967D2;\n",
              "      --hover-bg-color: #E2EBFA;\n",
              "      --hover-fill-color: #174EA6;\n",
              "      --disabled-fill-color: #AAA;\n",
              "      --disabled-bg-color: #DDD;\n",
              "  }\n",
              "\n",
              "  [theme=dark] .colab-df-quickchart {\n",
              "      --bg-color: #3B4455;\n",
              "      --fill-color: #D2E3FC;\n",
              "      --hover-bg-color: #434B5C;\n",
              "      --hover-fill-color: #FFFFFF;\n",
              "      --disabled-bg-color: #3B4455;\n",
              "      --disabled-fill-color: #666;\n",
              "  }\n",
              "\n",
              "  .colab-df-quickchart {\n",
              "    background-color: var(--bg-color);\n",
              "    border: none;\n",
              "    border-radius: 50%;\n",
              "    cursor: pointer;\n",
              "    display: none;\n",
              "    fill: var(--fill-color);\n",
              "    height: 32px;\n",
              "    padding: 0;\n",
              "    width: 32px;\n",
              "  }\n",
              "\n",
              "  .colab-df-quickchart:hover {\n",
              "    background-color: var(--hover-bg-color);\n",
              "    box-shadow: 0 1px 2px rgba(60, 64, 67, 0.3), 0 1px 3px 1px rgba(60, 64, 67, 0.15);\n",
              "    fill: var(--button-hover-fill-color);\n",
              "  }\n",
              "\n",
              "  .colab-df-quickchart-complete:disabled,\n",
              "  .colab-df-quickchart-complete:disabled:hover {\n",
              "    background-color: var(--disabled-bg-color);\n",
              "    fill: var(--disabled-fill-color);\n",
              "    box-shadow: none;\n",
              "  }\n",
              "\n",
              "  .colab-df-spinner {\n",
              "    border: 2px solid var(--fill-color);\n",
              "    border-color: transparent;\n",
              "    border-bottom-color: var(--fill-color);\n",
              "    animation:\n",
              "      spin 1s steps(1) infinite;\n",
              "  }\n",
              "\n",
              "  @keyframes spin {\n",
              "    0% {\n",
              "      border-color: transparent;\n",
              "      border-bottom-color: var(--fill-color);\n",
              "      border-left-color: var(--fill-color);\n",
              "    }\n",
              "    20% {\n",
              "      border-color: transparent;\n",
              "      border-left-color: var(--fill-color);\n",
              "      border-top-color: var(--fill-color);\n",
              "    }\n",
              "    30% {\n",
              "      border-color: transparent;\n",
              "      border-left-color: var(--fill-color);\n",
              "      border-top-color: var(--fill-color);\n",
              "      border-right-color: var(--fill-color);\n",
              "    }\n",
              "    40% {\n",
              "      border-color: transparent;\n",
              "      border-right-color: var(--fill-color);\n",
              "      border-top-color: var(--fill-color);\n",
              "    }\n",
              "    60% {\n",
              "      border-color: transparent;\n",
              "      border-right-color: var(--fill-color);\n",
              "    }\n",
              "    80% {\n",
              "      border-color: transparent;\n",
              "      border-right-color: var(--fill-color);\n",
              "      border-bottom-color: var(--fill-color);\n",
              "    }\n",
              "    90% {\n",
              "      border-color: transparent;\n",
              "      border-bottom-color: var(--fill-color);\n",
              "    }\n",
              "  }\n",
              "</style>\n",
              "\n",
              "  <script>\n",
              "    async function quickchart(key) {\n",
              "      const quickchartButtonEl =\n",
              "        document.querySelector('#' + key + ' button');\n",
              "      quickchartButtonEl.disabled = true;  // To prevent multiple clicks.\n",
              "      quickchartButtonEl.classList.add('colab-df-spinner');\n",
              "      try {\n",
              "        const charts = await google.colab.kernel.invokeFunction(\n",
              "            'suggestCharts', [key], {});\n",
              "      } catch (error) {\n",
              "        console.error('Error during call to suggestCharts:', error);\n",
              "      }\n",
              "      quickchartButtonEl.classList.remove('colab-df-spinner');\n",
              "      quickchartButtonEl.classList.add('colab-df-quickchart-complete');\n",
              "    }\n",
              "    (() => {\n",
              "      let quickchartButtonEl =\n",
              "        document.querySelector('#df-b0102034-576c-45a2-91a7-d69f527631bc button');\n",
              "      quickchartButtonEl.style.display =\n",
              "        google.colab.kernel.accessAllowed ? 'block' : 'none';\n",
              "    })();\n",
              "  </script>\n",
              "</div>\n",
              "\n",
              "    </div>\n",
              "  </div>\n"
            ],
            "application/vnd.google.colaboratory.intrinsic+json": {
              "type": "dataframe",
              "variable_name": "data"
            }
          },
          "metadata": {},
          "execution_count": 1
        }
      ],
      "source": [
        "#File Reading and File Head Look\n",
        "import pandas as pd\n",
        "file_path=r'/content/drive/MyDrive/Colab Notebooks/Agricultural Production.csv'\n",
        "data =pd.read_csv(file_path)\n",
        "data.head()"
      ]
    },
    {
      "cell_type": "code",
      "execution_count": 2,
      "metadata": {
        "colab": {
          "base_uri": "https://localhost:8080/",
          "height": 398
        },
        "id": "xYvncJeyVKy5",
        "outputId": "12e32eca-0243-4358-f2d6-7170f08ec1fa"
      },
      "outputs": [
        {
          "output_type": "execute_result",
          "data": {
            "text/plain": [
              "State                  0\n",
              "District               0\n",
              "Crop                  32\n",
              "Year                   0\n",
              "Season                 1\n",
              "Area                  33\n",
              "Area Units             0\n",
              "Production          4993\n",
              "Production Units       0\n",
              "Yield                 33\n",
              "dtype: int64"
            ],
            "text/html": [
              "<div>\n",
              "<style scoped>\n",
              "    .dataframe tbody tr th:only-of-type {\n",
              "        vertical-align: middle;\n",
              "    }\n",
              "\n",
              "    .dataframe tbody tr th {\n",
              "        vertical-align: top;\n",
              "    }\n",
              "\n",
              "    .dataframe thead th {\n",
              "        text-align: right;\n",
              "    }\n",
              "</style>\n",
              "<table border=\"1\" class=\"dataframe\">\n",
              "  <thead>\n",
              "    <tr style=\"text-align: right;\">\n",
              "      <th></th>\n",
              "      <th>0</th>\n",
              "    </tr>\n",
              "  </thead>\n",
              "  <tbody>\n",
              "    <tr>\n",
              "      <th>State</th>\n",
              "      <td>0</td>\n",
              "    </tr>\n",
              "    <tr>\n",
              "      <th>District</th>\n",
              "      <td>0</td>\n",
              "    </tr>\n",
              "    <tr>\n",
              "      <th>Crop</th>\n",
              "      <td>32</td>\n",
              "    </tr>\n",
              "    <tr>\n",
              "      <th>Year</th>\n",
              "      <td>0</td>\n",
              "    </tr>\n",
              "    <tr>\n",
              "      <th>Season</th>\n",
              "      <td>1</td>\n",
              "    </tr>\n",
              "    <tr>\n",
              "      <th>Area</th>\n",
              "      <td>33</td>\n",
              "    </tr>\n",
              "    <tr>\n",
              "      <th>Area Units</th>\n",
              "      <td>0</td>\n",
              "    </tr>\n",
              "    <tr>\n",
              "      <th>Production</th>\n",
              "      <td>4993</td>\n",
              "    </tr>\n",
              "    <tr>\n",
              "      <th>Production Units</th>\n",
              "      <td>0</td>\n",
              "    </tr>\n",
              "    <tr>\n",
              "      <th>Yield</th>\n",
              "      <td>33</td>\n",
              "    </tr>\n",
              "  </tbody>\n",
              "</table>\n",
              "</div><br><label><b>dtype:</b> int64</label>"
            ]
          },
          "metadata": {},
          "execution_count": 2
        }
      ],
      "source": [
        "#Checking for Missing Values\n",
        "data.isnull().sum()"
      ]
    },
    {
      "cell_type": "code",
      "execution_count": 3,
      "metadata": {
        "colab": {
          "base_uri": "https://localhost:8080/"
        },
        "id": "PhqTqUa9VSmx",
        "outputId": "7ada546d-4a3a-4772-96b6-0fedfd5dcbb6"
      },
      "outputs": [
        {
          "output_type": "stream",
          "name": "stdout",
          "text": [
            "<class 'pandas.core.frame.DataFrame'>\n",
            "RangeIndex: 345407 entries, 0 to 345406\n",
            "Data columns (total 10 columns):\n",
            " #   Column            Non-Null Count   Dtype  \n",
            "---  ------            --------------   -----  \n",
            " 0   State             345407 non-null  object \n",
            " 1   District          345407 non-null  object \n",
            " 2   Crop              345375 non-null  object \n",
            " 3   Year              345407 non-null  object \n",
            " 4   Season            345406 non-null  object \n",
            " 5   Area              345374 non-null  float64\n",
            " 6   Area Units        345407 non-null  object \n",
            " 7   Production        340414 non-null  float64\n",
            " 8   Production Units  345407 non-null  object \n",
            " 9   Yield             345374 non-null  float64\n",
            "dtypes: float64(3), object(7)\n",
            "memory usage: 26.4+ MB\n"
          ]
        }
      ],
      "source": [
        "data.info()"
      ]
    },
    {
      "cell_type": "code",
      "execution_count": 4,
      "metadata": {
        "id": "gAfIL-58VXjp"
      },
      "outputs": [],
      "source": [
        "# Handling Missing Values with the mode (most frequent value) for categorical features like Crop and Season,\n",
        "#as these are often repetitive in agricultural data.\n",
        "data['Crop'] = data['Crop'].fillna(data['Crop'].mode()[0])\n",
        "data['Season'] = data['Season'].fillna(data['Season'].mode()[0])"
      ]
    },
    {
      "cell_type": "code",
      "execution_count": 5,
      "metadata": {
        "colab": {
          "base_uri": "https://localhost:8080/",
          "height": 398
        },
        "id": "Bmnx2BgEVbu0",
        "outputId": "99e5d5c1-c8f1-47fa-a7e6-9ce974340b11"
      },
      "outputs": [
        {
          "output_type": "execute_result",
          "data": {
            "text/plain": [
              "State                  0\n",
              "District               0\n",
              "Crop                   0\n",
              "Year                   0\n",
              "Season                 0\n",
              "Area                  33\n",
              "Area Units             0\n",
              "Production          4993\n",
              "Production Units       0\n",
              "Yield                 33\n",
              "dtype: int64"
            ],
            "text/html": [
              "<div>\n",
              "<style scoped>\n",
              "    .dataframe tbody tr th:only-of-type {\n",
              "        vertical-align: middle;\n",
              "    }\n",
              "\n",
              "    .dataframe tbody tr th {\n",
              "        vertical-align: top;\n",
              "    }\n",
              "\n",
              "    .dataframe thead th {\n",
              "        text-align: right;\n",
              "    }\n",
              "</style>\n",
              "<table border=\"1\" class=\"dataframe\">\n",
              "  <thead>\n",
              "    <tr style=\"text-align: right;\">\n",
              "      <th></th>\n",
              "      <th>0</th>\n",
              "    </tr>\n",
              "  </thead>\n",
              "  <tbody>\n",
              "    <tr>\n",
              "      <th>State</th>\n",
              "      <td>0</td>\n",
              "    </tr>\n",
              "    <tr>\n",
              "      <th>District</th>\n",
              "      <td>0</td>\n",
              "    </tr>\n",
              "    <tr>\n",
              "      <th>Crop</th>\n",
              "      <td>0</td>\n",
              "    </tr>\n",
              "    <tr>\n",
              "      <th>Year</th>\n",
              "      <td>0</td>\n",
              "    </tr>\n",
              "    <tr>\n",
              "      <th>Season</th>\n",
              "      <td>0</td>\n",
              "    </tr>\n",
              "    <tr>\n",
              "      <th>Area</th>\n",
              "      <td>33</td>\n",
              "    </tr>\n",
              "    <tr>\n",
              "      <th>Area Units</th>\n",
              "      <td>0</td>\n",
              "    </tr>\n",
              "    <tr>\n",
              "      <th>Production</th>\n",
              "      <td>4993</td>\n",
              "    </tr>\n",
              "    <tr>\n",
              "      <th>Production Units</th>\n",
              "      <td>0</td>\n",
              "    </tr>\n",
              "    <tr>\n",
              "      <th>Yield</th>\n",
              "      <td>33</td>\n",
              "    </tr>\n",
              "  </tbody>\n",
              "</table>\n",
              "</div><br><label><b>dtype:</b> int64</label>"
            ]
          },
          "metadata": {},
          "execution_count": 5
        }
      ],
      "source": [
        "#Checking for Missing Values\n",
        "data.isnull().sum()"
      ]
    },
    {
      "cell_type": "code",
      "execution_count": 6,
      "metadata": {
        "id": "nelrMFBiVfXh"
      },
      "outputs": [],
      "source": [
        "#Imputing with the mean or median for numerical features like Area, Production,\n",
        "#and Yield. Given the large number of missing values in Production, imputation\n",
        "#may be necessary to preserve as much data as possible.\n",
        "\n",
        "data['Area'] = data['Area'].fillna(data['Area'].mean())\n",
        "data['Production'] = data['Production'].fillna(data['Production'].mean())\n",
        "data['Yield'] = data['Yield'].fillna(data['Yield'].mean())"
      ]
    },
    {
      "cell_type": "code",
      "execution_count": 7,
      "metadata": {
        "colab": {
          "base_uri": "https://localhost:8080/",
          "height": 398
        },
        "id": "7c_UL2mFViUK",
        "outputId": "179089da-b52a-4c85-a6b3-b393e0c26505"
      },
      "outputs": [
        {
          "output_type": "execute_result",
          "data": {
            "text/plain": [
              "State               0\n",
              "District            0\n",
              "Crop                0\n",
              "Year                0\n",
              "Season              0\n",
              "Area                0\n",
              "Area Units          0\n",
              "Production          0\n",
              "Production Units    0\n",
              "Yield               0\n",
              "dtype: int64"
            ],
            "text/html": [
              "<div>\n",
              "<style scoped>\n",
              "    .dataframe tbody tr th:only-of-type {\n",
              "        vertical-align: middle;\n",
              "    }\n",
              "\n",
              "    .dataframe tbody tr th {\n",
              "        vertical-align: top;\n",
              "    }\n",
              "\n",
              "    .dataframe thead th {\n",
              "        text-align: right;\n",
              "    }\n",
              "</style>\n",
              "<table border=\"1\" class=\"dataframe\">\n",
              "  <thead>\n",
              "    <tr style=\"text-align: right;\">\n",
              "      <th></th>\n",
              "      <th>0</th>\n",
              "    </tr>\n",
              "  </thead>\n",
              "  <tbody>\n",
              "    <tr>\n",
              "      <th>State</th>\n",
              "      <td>0</td>\n",
              "    </tr>\n",
              "    <tr>\n",
              "      <th>District</th>\n",
              "      <td>0</td>\n",
              "    </tr>\n",
              "    <tr>\n",
              "      <th>Crop</th>\n",
              "      <td>0</td>\n",
              "    </tr>\n",
              "    <tr>\n",
              "      <th>Year</th>\n",
              "      <td>0</td>\n",
              "    </tr>\n",
              "    <tr>\n",
              "      <th>Season</th>\n",
              "      <td>0</td>\n",
              "    </tr>\n",
              "    <tr>\n",
              "      <th>Area</th>\n",
              "      <td>0</td>\n",
              "    </tr>\n",
              "    <tr>\n",
              "      <th>Area Units</th>\n",
              "      <td>0</td>\n",
              "    </tr>\n",
              "    <tr>\n",
              "      <th>Production</th>\n",
              "      <td>0</td>\n",
              "    </tr>\n",
              "    <tr>\n",
              "      <th>Production Units</th>\n",
              "      <td>0</td>\n",
              "    </tr>\n",
              "    <tr>\n",
              "      <th>Yield</th>\n",
              "      <td>0</td>\n",
              "    </tr>\n",
              "  </tbody>\n",
              "</table>\n",
              "</div><br><label><b>dtype:</b> int64</label>"
            ]
          },
          "metadata": {},
          "execution_count": 7
        }
      ],
      "source": [
        "#Checking for Missing Values\n",
        "data.isnull().sum()"
      ]
    },
    {
      "cell_type": "code",
      "execution_count": 8,
      "metadata": {
        "id": "ZT3uodxPVltA"
      },
      "outputs": [],
      "source": [
        "# One-Hot Encoding for categorical columns\n",
        "data_encoded = pd.get_dummies(data, columns=['State', 'District', 'Crop', 'Season'], drop_first=True)"
      ]
    },
    {
      "cell_type": "code",
      "execution_count": 9,
      "metadata": {
        "colab": {
          "base_uri": "https://localhost:8080/"
        },
        "id": "6rwNfQvlvA44",
        "outputId": "b173b8de-4751-40a6-a17f-e4c674f4d41d"
      },
      "outputs": [
        {
          "output_type": "stream",
          "name": "stdout",
          "text": [
            "Index(['State', 'District', 'Crop', 'Year', 'Season', 'Area', 'Area Units',\n",
            "       'Production', 'Production Units', 'Yield'],\n",
            "      dtype='object')\n"
          ]
        }
      ],
      "source": [
        "print(data.columns)"
      ]
    },
    {
      "cell_type": "code",
      "execution_count": 10,
      "metadata": {
        "colab": {
          "base_uri": "https://localhost:8080/"
        },
        "id": "4r5e8SSfvJyy",
        "outputId": "bd57c3ff-4072-4240-f2ed-075919f79c1e"
      },
      "outputs": [
        {
          "output_type": "stream",
          "name": "stdout",
          "text": [
            "State       object\n",
            "District    object\n",
            "Crop        object\n",
            "dtype: object\n"
          ]
        }
      ],
      "source": [
        "print(data[['State', 'District', 'Crop']].dtypes)"
      ]
    },
    {
      "cell_type": "code",
      "execution_count": 11,
      "metadata": {
        "colab": {
          "base_uri": "https://localhost:8080/"
        },
        "id": "zjPuxGPBvVuD",
        "outputId": "ae79d42a-a4f9-442e-e389-ca1c22a58f10"
      },
      "outputs": [
        {
          "output_type": "stream",
          "name": "stdout",
          "text": [
            "      Year    Area Area Units  Production Production Units     Yield  \\\n",
            "0  2001-02  1254.0    Hectare      2061.0           Tonnes  1.643541   \n",
            "1  2002-03  1258.0    Hectare      2083.0           Tonnes  1.655803   \n",
            "2  2003-04  1261.0    Hectare      1525.0           Tonnes  1.209358   \n",
            "3  2001-02  3100.0    Hectare      5239.0           Tonnes  1.690000   \n",
            "4  2002-03  3105.0    Hectare      5267.0           Tonnes  1.696296   \n",
            "\n",
            "   State_Andhra Pradesh  State_Arunachal Pradesh  State_Assam  State_Bihar  \\\n",
            "0                 False                    False        False        False   \n",
            "1                 False                    False        False        False   \n",
            "2                 False                    False        False        False   \n",
            "3                 False                    False        False        False   \n",
            "4                 False                    False        False        False   \n",
            "\n",
            "   ...  Crop_Tobacco  Crop_Turmeric  Crop_Urad  Crop_Wheat  \\\n",
            "0  ...         False          False      False       False   \n",
            "1  ...         False          False      False       False   \n",
            "2  ...         False          False      False       False   \n",
            "3  ...         False          False      False       False   \n",
            "4  ...         False          False      False       False   \n",
            "\n",
            "   Crop_other oilseeds  Season_Kharif  Season_Rabi  Season_Summer  \\\n",
            "0                False           True        False          False   \n",
            "1                False          False        False          False   \n",
            "2                False          False        False          False   \n",
            "3                False           True        False          False   \n",
            "4                False          False        False          False   \n",
            "\n",
            "   Season_Whole Year  Season_Winter  \n",
            "0              False          False  \n",
            "1               True          False  \n",
            "2               True          False  \n",
            "3              False          False  \n",
            "4               True          False  \n",
            "\n",
            "[5 rows x 829 columns]\n"
          ]
        }
      ],
      "source": [
        "print(data_encoded.head())"
      ]
    },
    {
      "cell_type": "code",
      "execution_count": 12,
      "metadata": {
        "colab": {
          "base_uri": "https://localhost:8080/"
        },
        "id": "GHCr77z5wOnm",
        "outputId": "a76f7781-dca1-489c-a23f-95bb958ed152"
      },
      "outputs": [
        {
          "output_type": "stream",
          "name": "stdout",
          "text": [
            "Index(['Year', 'Area', 'Area Units', 'Production', 'Production Units', 'Yield',\n",
            "       'State_Andhra Pradesh', 'State_Arunachal Pradesh', 'State_Assam',\n",
            "       'State_Bihar',\n",
            "       ...\n",
            "       'Crop_Tobacco', 'Crop_Turmeric', 'Crop_Urad', 'Crop_Wheat',\n",
            "       'Crop_other oilseeds', 'Season_Kharif', 'Season_Rabi', 'Season_Summer',\n",
            "       'Season_Whole Year', 'Season_Winter'],\n",
            "      dtype='object', length=829)\n"
          ]
        }
      ],
      "source": [
        "print(data_encoded.columns)"
      ]
    },
    {
      "cell_type": "code",
      "execution_count": 13,
      "metadata": {
        "colab": {
          "base_uri": "https://localhost:8080/"
        },
        "id": "o9HZEeoEwT2e",
        "outputId": "5b27b3bf-36ea-4144-d729-31bf0663c6f0"
      },
      "outputs": [
        {
          "output_type": "stream",
          "name": "stdout",
          "text": [
            "   State_Andhra Pradesh  Crop_Tobacco  Season_Winter\n",
            "0                 False         False          False\n",
            "1                 False         False          False\n",
            "2                 False         False          False\n",
            "3                 False         False          False\n",
            "4                 False         False          False\n"
          ]
        }
      ],
      "source": [
        "# Check a few columns to verify encoding\n",
        "print(data_encoded[['State_Andhra Pradesh', 'Crop_Tobacco', 'Season_Winter']].head())\n"
      ]
    },
    {
      "cell_type": "code",
      "execution_count": 14,
      "metadata": {
        "colab": {
          "base_uri": "https://localhost:8080/"
        },
        "id": "BqqcfPTUwaQH",
        "outputId": "8fe560f8-9d66-4c3c-d753-85664b78ac92"
      },
      "outputs": [
        {
          "output_type": "stream",
          "name": "stdout",
          "text": [
            "      Year    Area Area Units  Production Production Units     Yield  \\\n",
            "0  2001-02  1254.0    Hectare      2061.0           Tonnes  1.643541   \n",
            "1  2002-03  1258.0    Hectare      2083.0           Tonnes  1.655803   \n",
            "2  2003-04  1261.0    Hectare      1525.0           Tonnes  1.209358   \n",
            "3  2001-02  3100.0    Hectare      5239.0           Tonnes  1.690000   \n",
            "4  2002-03  3105.0    Hectare      5267.0           Tonnes  1.696296   \n",
            "\n",
            "   State_Andhra Pradesh  State_Arunachal Pradesh  State_Assam  State_Bihar  \\\n",
            "0                 False                    False        False        False   \n",
            "1                 False                    False        False        False   \n",
            "2                 False                    False        False        False   \n",
            "3                 False                    False        False        False   \n",
            "4                 False                    False        False        False   \n",
            "\n",
            "   ...  Crop_Tobacco  Crop_Turmeric  Crop_Urad  Crop_Wheat  \\\n",
            "0  ...         False          False      False       False   \n",
            "1  ...         False          False      False       False   \n",
            "2  ...         False          False      False       False   \n",
            "3  ...         False          False      False       False   \n",
            "4  ...         False          False      False       False   \n",
            "\n",
            "   Crop_other oilseeds  Season_Kharif  Season_Rabi  Season_Summer  \\\n",
            "0                False           True        False          False   \n",
            "1                False          False        False          False   \n",
            "2                False          False        False          False   \n",
            "3                False           True        False          False   \n",
            "4                False          False        False          False   \n",
            "\n",
            "   Season_Whole Year  Season_Winter  \n",
            "0              False          False  \n",
            "1               True          False  \n",
            "2               True          False  \n",
            "3              False          False  \n",
            "4               True          False  \n",
            "\n",
            "[5 rows x 829 columns]\n"
          ]
        }
      ],
      "source": [
        "data_encoded = pd.get_dummies(data, columns=['State', 'District', 'Crop', 'Season'], drop_first=True)\n",
        "print(data_encoded.head())\n"
      ]
    },
    {
      "cell_type": "code",
      "execution_count": 15,
      "metadata": {
        "colab": {
          "base_uri": "https://localhost:8080/"
        },
        "id": "2nmq4xAmeVnr",
        "outputId": "682ee05b-a918-479b-e0ee-651b21ff8aa5"
      },
      "outputs": [
        {
          "output_type": "stream",
          "name": "stdout",
          "text": [
            "Year                  object\n",
            "Area                 float64\n",
            "Area Units            object\n",
            "Production           float64\n",
            "Production Units      object\n",
            "                      ...   \n",
            "Season_Kharif           bool\n",
            "Season_Rabi             bool\n",
            "Season_Summer           bool\n",
            "Season_Whole Year       bool\n",
            "Season_Winter           bool\n",
            "Length: 829, dtype: object\n"
          ]
        }
      ],
      "source": [
        "print(data_encoded.dtypes)"
      ]
    },
    {
      "cell_type": "code",
      "execution_count": 16,
      "metadata": {
        "colab": {
          "base_uri": "https://localhost:8080/"
        },
        "id": "4DrkazjVepFk",
        "outputId": "6c71a18d-7c94-449e-c962-53dfd694d799"
      },
      "outputs": [
        {
          "output_type": "stream",
          "name": "stdout",
          "text": [
            "Index(['Year', 'Area Units', 'Production Units'], dtype='object')\n"
          ]
        }
      ],
      "source": [
        "object_columns = data_encoded.select_dtypes(include=['object']).columns\n",
        "print(object_columns)"
      ]
    },
    {
      "cell_type": "code",
      "execution_count": 17,
      "metadata": {
        "colab": {
          "base_uri": "https://localhost:8080/"
        },
        "id": "IcZol04nVs8e",
        "outputId": "b574a900-1b6e-4a54-c2c7-a4be2646025a"
      },
      "outputs": [
        {
          "output_type": "stream",
          "name": "stdout",
          "text": [
            "Number of unique values: 3\n"
          ]
        }
      ],
      "source": [
        "unique_values = data['Production Units'].nunique()\n",
        "\n",
        "print(f\"Number of unique values: {unique_values}\")"
      ]
    },
    {
      "cell_type": "code",
      "execution_count": 18,
      "metadata": {
        "colab": {
          "base_uri": "https://localhost:8080/"
        },
        "id": "cHlnpoDmVv5D",
        "outputId": "7ec4b85d-e375-4db7-900b-4bbd81d63b1e"
      },
      "outputs": [
        {
          "output_type": "stream",
          "name": "stdout",
          "text": [
            "['Tonnes' 'Nuts' 'Bales']\n"
          ]
        }
      ],
      "source": [
        "unique_values = data['Production Units'].unique()\n",
        "\n",
        "print(unique_values)"
      ]
    },
    {
      "cell_type": "code",
      "execution_count": 19,
      "metadata": {
        "id": "R50pzcmjV0EY"
      },
      "outputs": [],
      "source": [
        "from sklearn.preprocessing import StandardScaler\n",
        "\n",
        "# Features that need scaling\n",
        "numerical_features = ['Area', 'Production', 'Yield']\n",
        "\n",
        "# Initialize the scaler\n",
        "scaler = StandardScaler()\n",
        "\n",
        "# Fiting and transforming the numerical features\n",
        "data_encoded[numerical_features] = scaler.fit_transform(data_encoded[numerical_features])"
      ]
    },
    {
      "cell_type": "code",
      "execution_count": 20,
      "metadata": {
        "colab": {
          "base_uri": "https://localhost:8080/"
        },
        "id": "AWG1fD4BPRtm",
        "outputId": "a7061e9f-5e2c-45bf-e6d2-19b279b297a9"
      },
      "outputs": [
        {
          "output_type": "stream",
          "name": "stdout",
          "text": [
            "<class 'pandas.core.frame.DataFrame'>\n",
            "RangeIndex: 345407 entries, 0 to 345406\n",
            "Data columns (total 10 columns):\n",
            " #   Column            Non-Null Count   Dtype  \n",
            "---  ------            --------------   -----  \n",
            " 0   State             345407 non-null  object \n",
            " 1   District          345407 non-null  object \n",
            " 2   Crop              345407 non-null  object \n",
            " 3   Year              345407 non-null  object \n",
            " 4   Season            345407 non-null  object \n",
            " 5   Area              345407 non-null  float64\n",
            " 6   Area Units        345407 non-null  object \n",
            " 7   Production        345407 non-null  float64\n",
            " 8   Production Units  345407 non-null  object \n",
            " 9   Yield             345407 non-null  float64\n",
            "dtypes: float64(3), object(7)\n",
            "memory usage: 26.4+ MB\n"
          ]
        }
      ],
      "source": [
        "#Taking Snapshot of the Dataframe\n",
        "data.info()\n"
      ]
    },
    {
      "cell_type": "code",
      "execution_count": 21,
      "metadata": {
        "colab": {
          "base_uri": "https://localhost:8080/"
        },
        "id": "h7gpEz7-Wyrr",
        "outputId": "cd4224a3-d63b-45db-ea66-f4bcadfca245"
      },
      "outputs": [
        {
          "output_type": "stream",
          "name": "stdout",
          "text": [
            "count    345407.000000\n",
            "mean         79.407569\n",
            "std         916.584956\n",
            "min           0.000000\n",
            "25%           0.546839\n",
            "50%           1.000000\n",
            "75%           2.467981\n",
            "max       43958.333333\n",
            "Name: Yield, dtype: float64\n"
          ]
        }
      ],
      "source": [
        "#looking at summary statistics (mean, median, standard deviation) to understand the spread of your Yield values:\n",
        "print(data['Yield'].describe())"
      ]
    },
    {
      "cell_type": "code",
      "execution_count": 22,
      "metadata": {
        "colab": {
          "base_uri": "https://localhost:8080/",
          "height": 564
        },
        "id": "Bg_WjIoIQchO",
        "outputId": "eabbf4a5-342b-4884-841e-97813a4e630c"
      },
      "outputs": [
        {
          "output_type": "display_data",
          "data": {
            "text/plain": [
              "<Figure size 1000x600 with 1 Axes>"
            ],
            "image/png": "[encoded data removed]"
          },
          "metadata": {}
        }
      ],
      "source": [
        "import seaborn as sns\n",
        "import matplotlib.pyplot as plt\n",
        "\n",
        "# Ploting the distribution of Yield\n",
        "plt.figure(figsize=(10, 6))\n",
        "sns.histplot(data['Yield'], kde=True)\n",
        "plt.title('Distribution of Yield')\n",
        "plt.show()"
      ]
    },
    {
      "cell_type": "markdown",
      "source": [
        "Yield data is heavily skewed, with the majority of values concentrated near zero and a few very high outliers (up to ~44,000), which is causing the rest of the data to be squeezed towards the lower end of the x-axis."
      ],
      "metadata": {
        "id": "Q4bHpQMeXOg4"
      }
    },
    {
      "cell_type": "code",
      "execution_count": 23,
      "metadata": {
        "colab": {
          "base_uri": "https://localhost:8080/",
          "height": 545
        },
        "id": "c3JJVsYaYMAX",
        "outputId": "c0ddc4a0-f9e0-49fa-a95d-dfcd499f9a21"
      },
      "outputs": [
        {
          "output_type": "display_data",
          "data": {
            "text/plain": [
              "<Figure size 1000x600 with 1 Axes>"
            ],
            "image/png": "[encoded data removed]"
          },
          "metadata": {}
        }
      ],
      "source": [
        "import numpy as np\n",
        "\n",
        "# Caping at the 95th percentile\n",
        "upper_limit = data['Yield'].quantile(0.95)\n",
        "capped_yield = np.where(data['Yield'] > upper_limit, upper_limit, data['Yield'])\n",
        "\n",
        "# Ploting the capped Yield distribution\n",
        "plt.figure(figsize=(10, 6))\n",
        "sns.histplot(capped_yield, kde=True)\n",
        "plt.title('Capped Yield Distribution (95th Percentile)')\n",
        "plt.show()"
      ]
    },
    {
      "cell_type": "markdown",
      "source": [
        " caping the extreme values to focus on the bulk of the data. For example, consider plotting only up to the 95th percentile of Yield.\n"
      ],
      "metadata": {
        "id": "vwh-vn0rXbeM"
      }
    },
    {
      "cell_type": "code",
      "execution_count": 24,
      "metadata": {
        "colab": {
          "base_uri": "https://localhost:8080/",
          "height": 564
        },
        "id": "Wsv7dTWwYww8",
        "outputId": "26c9ffc1-92c8-4bd2-b4ea-674be92bc80e"
      },
      "outputs": [
        {
          "output_type": "display_data",
          "data": {
            "text/plain": [
              "<Figure size 1000x600 with 1 Axes>"
            ],
            "image/png": "[encoded data removed]"
          },
          "metadata": {}
        }
      ],
      "source": [
        "# Apply log transformation (adding a small constant to avoid log(0))\n",
        "data['Log_Yield'] = np.log1p(data['Yield'])\n",
        "\n",
        "# Plot the transformed Yield distribution\n",
        "plt.figure(figsize=(10, 6))\n",
        "sns.histplot(data['Log_Yield'], kde=True)\n",
        "plt.title('Log Transformed Yield Distribution')\n",
        "plt.show()"
      ]
    },
    {
      "cell_type": "markdown",
      "source": [
        "Log Transform the Data tocompress the outliers and give a more balanced view of the distribution."
      ],
      "metadata": {
        "id": "7U_im8kfXqiq"
      }
    },
    {
      "cell_type": "code",
      "execution_count": 25,
      "metadata": {
        "id": "RadAqzAEZ2-0"
      },
      "outputs": [],
      "source": [
        "from sklearn.model_selection import train_test_split\n",
        "\n",
        "# Split the data (80% train, 20% test)\n",
        "X = data.drop(['Yield', 'Log_Yield'], axis=1)  # Use other features except Yield and Log_Yield for training\n",
        "y = data['Log_Yield']  # Use the log-transformed Yield for the prediction target\n",
        "\n",
        "X_train, X_test, y_train, y_test = train_test_split(X, y, test_size=0.2, random_state=42)\n"
      ]
    },
    {
      "cell_type": "code",
      "execution_count": 26,
      "metadata": {
        "colab": {
          "base_uri": "https://localhost:8080/"
        },
        "id": "DSsXRoGeao7X",
        "outputId": "fbd1e8c8-f186-49f7-f189-d18581b0e67c"
      },
      "outputs": [
        {
          "output_type": "stream",
          "name": "stdout",
          "text": [
            "Year                  object\n",
            "Area                 float64\n",
            "Area Units            object\n",
            "Production           float64\n",
            "Production Units      object\n",
            "                      ...   \n",
            "Season_Kharif           bool\n",
            "Season_Rabi             bool\n",
            "Season_Summer           bool\n",
            "Season_Whole Year       bool\n",
            "Season_Winter           bool\n",
            "Length: 829, dtype: object\n"
          ]
        }
      ],
      "source": [
        "#Checking data types after encoding\n",
        "print(data_encoded.dtypes)"
      ]
    },
    {
      "cell_type": "code",
      "execution_count": 27,
      "metadata": {
        "colab": {
          "base_uri": "https://localhost:8080/",
          "height": 356
        },
        "id": "_c3oJ0zufB5Y",
        "outputId": "24ae4f11-4ac4-4804-a4af-f3b9b2cf4fbb"
      },
      "outputs": [
        {
          "output_type": "error",
          "ename": "ValueError",
          "evalue": "could not convert string to float: 'Nagaland'",
          "traceback": [
            "\u001b[0;31m---------------------------------------------------------------------------\u001b[0m",
            "\u001b[0;31mValueError\u001b[0m                                Traceback (most recent call last)",
            "\u001b[0;32m<ipython-input-27-9925a030e4d0>\u001b[0m in \u001b[0;36m<cell line: 7>\u001b[0;34m()\u001b[0m\n\u001b[1;32m      5\u001b[0m \u001b[0;34m\u001b[0m\u001b[0m\n\u001b[1;32m      6\u001b[0m \u001b[0;31m# Train the model\u001b[0m\u001b[0;34m\u001b[0m\u001b[0;34m\u001b[0m\u001b[0m\n\u001b[0;32m----> 7\u001b[0;31m \u001b[0mrf_model\u001b[0m\u001b[0;34m.\u001b[0m\u001b[0mfit\u001b[0m\u001b[0;34m(\u001b[0m\u001b[0mX_train\u001b[0m\u001b[0;34m,\u001b[0m \u001b[0my_train\u001b[0m\u001b[0;34m)\u001b[0m\u001b[0;34m\u001b[0m\u001b[0;34m\u001b[0m\u001b[0m\n\u001b[0m\u001b[1;32m      8\u001b[0m \u001b[0;34m\u001b[0m\u001b[0m\n\u001b[1;32m      9\u001b[0m \u001b[0;31m# Make predictions\u001b[0m\u001b[0;34m\u001b[0m\u001b[0;34m\u001b[0m\u001b[0m\n",
            "\u001b[0;32m/usr/local/lib/python3.10/dist-packages/sklearn/base.py\u001b[0m in \u001b[0;36mwrapper\u001b[0;34m(estimator, *args, **kwargs)\u001b[0m\n\u001b[1;32m   1150\u001b[0m                 )\n\u001b[1;32m   1151\u001b[0m             ):\n\u001b[0;32m-> 1152\u001b[0;31m                 \u001b[0;32mreturn\u001b[0m \u001b[0mfit_method\u001b[0m\u001b[0;34m(\u001b[0m\u001b[0mestimator\u001b[0m\u001b[0;34m,\u001b[0m \u001b[0;34m*\u001b[0m\u001b[0margs\u001b[0m\u001b[0;34m,\u001b[0m \u001b[0;34m**\u001b[0m\u001b[0mkwargs\u001b[0m\u001b[0;34m)\u001b[0m\u001b[0;34m\u001b[0m\u001b[0;34m\u001b[0m\u001b[0m\n\u001b[0m\u001b[1;32m   1153\u001b[0m \u001b[0;34m\u001b[0m\u001b[0m\n\u001b[1;32m   1154\u001b[0m         \u001b[0;32mreturn\u001b[0m \u001b[0mwrapper\u001b[0m\u001b[0;34m\u001b[0m\u001b[0;34m\u001b[0m\u001b[0m\n",
            "\u001b[0;32m/usr/local/lib/python3.10/dist-packages/sklearn/ensemble/_forest.py\u001b[0m in \u001b[0;36mfit\u001b[0;34m(self, X, y, sample_weight)\u001b[0m\n\u001b[1;32m    346\u001b[0m         \u001b[0;32mif\u001b[0m \u001b[0missparse\u001b[0m\u001b[0;34m(\u001b[0m\u001b[0my\u001b[0m\u001b[0;34m)\u001b[0m\u001b[0;34m:\u001b[0m\u001b[0;34m\u001b[0m\u001b[0;34m\u001b[0m\u001b[0m\n\u001b[1;32m    347\u001b[0m             \u001b[0;32mraise\u001b[0m \u001b[0mValueError\u001b[0m\u001b[0;34m(\u001b[0m\u001b[0;34m\"sparse multilabel-indicator for y is not supported.\"\u001b[0m\u001b[0;34m)\u001b[0m\u001b[0;34m\u001b[0m\u001b[0;34m\u001b[0m\u001b[0m\n\u001b[0;32m--> 348\u001b[0;31m         X, y = self._validate_data(\n\u001b[0m\u001b[1;32m    349\u001b[0m             \u001b[0mX\u001b[0m\u001b[0;34m,\u001b[0m \u001b[0my\u001b[0m\u001b[0;34m,\u001b[0m \u001b[0mmulti_output\u001b[0m\u001b[0;34m=\u001b[0m\u001b[0;32mTrue\u001b[0m\u001b[0;34m,\u001b[0m \u001b[0maccept_sparse\u001b[0m\u001b[0;34m=\u001b[0m\u001b[0;34m\"csc\"\u001b[0m\u001b[0;34m,\u001b[0m \u001b[0mdtype\u001b[0m\u001b[0;34m=\u001b[0m\u001b[0mDTYPE\u001b[0m\u001b[0;34m\u001b[0m\u001b[0;34m\u001b[0m\u001b[0m\n\u001b[1;32m    350\u001b[0m         )\n",
            "\u001b[0;32m/usr/local/lib/python3.10/dist-packages/sklearn/base.py\u001b[0m in \u001b[0;36m_validate_data\u001b[0;34m(self, X, y, reset, validate_separately, cast_to_ndarray, **check_params)\u001b[0m\n\u001b[1;32m    620\u001b[0m                 \u001b[0my\u001b[0m \u001b[0;34m=\u001b[0m \u001b[0mcheck_array\u001b[0m\u001b[0;34m(\u001b[0m\u001b[0my\u001b[0m\u001b[0;34m,\u001b[0m \u001b[0minput_name\u001b[0m\u001b[0;34m=\u001b[0m\u001b[0;34m\"y\"\u001b[0m\u001b[0;34m,\u001b[0m \u001b[0;34m**\u001b[0m\u001b[0mcheck_y_params\u001b[0m\u001b[0;34m)\u001b[0m\u001b[0;34m\u001b[0m\u001b[0;34m\u001b[0m\u001b[0m\n\u001b[1;32m    621\u001b[0m             \u001b[0;32melse\u001b[0m\u001b[0;34m:\u001b[0m\u001b[0;34m\u001b[0m\u001b[0;34m\u001b[0m\u001b[0m\n\u001b[0;32m--> 622\u001b[0;31m                 \u001b[0mX\u001b[0m\u001b[0;34m,\u001b[0m \u001b[0my\u001b[0m \u001b[0;34m=\u001b[0m \u001b[0mcheck_X_y\u001b[0m\u001b[0;34m(\u001b[0m\u001b[0mX\u001b[0m\u001b[0;34m,\u001b[0m \u001b[0my\u001b[0m\u001b[0;34m,\u001b[0m \u001b[0;34m**\u001b[0m\u001b[0mcheck_params\u001b[0m\u001b[0;34m)\u001b[0m\u001b[0;34m\u001b[0m\u001b[0;34m\u001b[0m\u001b[0m\n\u001b[0m\u001b[1;32m    623\u001b[0m             \u001b[0mout\u001b[0m \u001b[0;34m=\u001b[0m \u001b[0mX\u001b[0m\u001b[0;34m,\u001b[0m \u001b[0my\u001b[0m\u001b[0;34m\u001b[0m\u001b[0;34m\u001b[0m\u001b[0m\n\u001b[1;32m    624\u001b[0m \u001b[0;34m\u001b[0m\u001b[0m\n",
            "\u001b[0;32m/usr/local/lib/python3.10/dist-packages/sklearn/utils/validation.py\u001b[0m in \u001b[0;36mcheck_X_y\u001b[0;34m(X, y, accept_sparse, accept_large_sparse, dtype, order, copy, force_all_finite, ensure_2d, allow_nd, multi_output, ensure_min_samples, ensure_min_features, y_numeric, estimator)\u001b[0m\n\u001b[1;32m   1144\u001b[0m         )\n\u001b[1;32m   1145\u001b[0m \u001b[0;34m\u001b[0m\u001b[0m\n\u001b[0;32m-> 1146\u001b[0;31m     X = check_array(\n\u001b[0m\u001b[1;32m   1147\u001b[0m         \u001b[0mX\u001b[0m\u001b[0;34m,\u001b[0m\u001b[0;34m\u001b[0m\u001b[0;34m\u001b[0m\u001b[0m\n\u001b[1;32m   1148\u001b[0m         \u001b[0maccept_sparse\u001b[0m\u001b[0;34m=\u001b[0m\u001b[0maccept_sparse\u001b[0m\u001b[0;34m,\u001b[0m\u001b[0;34m\u001b[0m\u001b[0;34m\u001b[0m\u001b[0m\n",
            "\u001b[0;32m/usr/local/lib/python3.10/dist-packages/sklearn/utils/validation.py\u001b[0m in \u001b[0;36mcheck_array\u001b[0;34m(array, accept_sparse, accept_large_sparse, dtype, order, copy, force_all_finite, ensure_2d, allow_nd, ensure_min_samples, ensure_min_features, estimator, input_name)\u001b[0m\n\u001b[1;32m    913\u001b[0m                     \u001b[0marray\u001b[0m \u001b[0;34m=\u001b[0m \u001b[0mxp\u001b[0m\u001b[0;34m.\u001b[0m\u001b[0mastype\u001b[0m\u001b[0;34m(\u001b[0m\u001b[0marray\u001b[0m\u001b[0;34m,\u001b[0m \u001b[0mdtype\u001b[0m\u001b[0;34m,\u001b[0m \u001b[0mcopy\u001b[0m\u001b[0;34m=\u001b[0m\u001b[0;32mFalse\u001b[0m\u001b[0;34m)\u001b[0m\u001b[0;34m\u001b[0m\u001b[0;34m\u001b[0m\u001b[0m\n\u001b[1;32m    914\u001b[0m                 \u001b[0;32melse\u001b[0m\u001b[0;34m:\u001b[0m\u001b[0;34m\u001b[0m\u001b[0;34m\u001b[0m\u001b[0m\n\u001b[0;32m--> 915\u001b[0;31m                     \u001b[0marray\u001b[0m \u001b[0;34m=\u001b[0m \u001b[0m_asarray_with_order\u001b[0m\u001b[0;34m(\u001b[0m\u001b[0marray\u001b[0m\u001b[0;34m,\u001b[0m \u001b[0morder\u001b[0m\u001b[0;34m=\u001b[0m\u001b[0morder\u001b[0m\u001b[0;34m,\u001b[0m \u001b[0mdtype\u001b[0m\u001b[0;34m=\u001b[0m\u001b[0mdtype\u001b[0m\u001b[0;34m,\u001b[0m \u001b[0mxp\u001b[0m\u001b[0;34m=\u001b[0m\u001b[0mxp\u001b[0m\u001b[0;34m)\u001b[0m\u001b[0;34m\u001b[0m\u001b[0;34m\u001b[0m\u001b[0m\n\u001b[0m\u001b[1;32m    916\u001b[0m             \u001b[0;32mexcept\u001b[0m \u001b[0mComplexWarning\u001b[0m \u001b[0;32mas\u001b[0m \u001b[0mcomplex_warning\u001b[0m\u001b[0;34m:\u001b[0m\u001b[0;34m\u001b[0m\u001b[0;34m\u001b[0m\u001b[0m\n\u001b[1;32m    917\u001b[0m                 raise ValueError(\n",
            "\u001b[0;32m/usr/local/lib/python3.10/dist-packages/sklearn/utils/_array_api.py\u001b[0m in \u001b[0;36m_asarray_with_order\u001b[0;34m(array, dtype, order, copy, xp)\u001b[0m\n\u001b[1;32m    378\u001b[0m             \u001b[0marray\u001b[0m \u001b[0;34m=\u001b[0m \u001b[0mnumpy\u001b[0m\u001b[0;34m.\u001b[0m\u001b[0marray\u001b[0m\u001b[0;34m(\u001b[0m\u001b[0marray\u001b[0m\u001b[0;34m,\u001b[0m \u001b[0morder\u001b[0m\u001b[0;34m=\u001b[0m\u001b[0morder\u001b[0m\u001b[0;34m,\u001b[0m \u001b[0mdtype\u001b[0m\u001b[0;34m=\u001b[0m\u001b[0mdtype\u001b[0m\u001b[0;34m)\u001b[0m\u001b[0;34m\u001b[0m\u001b[0;34m\u001b[0m\u001b[0m\n\u001b[1;32m    379\u001b[0m         \u001b[0;32melse\u001b[0m\u001b[0;34m:\u001b[0m\u001b[0;34m\u001b[0m\u001b[0;34m\u001b[0m\u001b[0m\n\u001b[0;32m--> 380\u001b[0;31m             \u001b[0marray\u001b[0m \u001b[0;34m=\u001b[0m \u001b[0mnumpy\u001b[0m\u001b[0;34m.\u001b[0m\u001b[0masarray\u001b[0m\u001b[0;34m(\u001b[0m\u001b[0marray\u001b[0m\u001b[0;34m,\u001b[0m \u001b[0morder\u001b[0m\u001b[0;34m=\u001b[0m\u001b[0morder\u001b[0m\u001b[0;34m,\u001b[0m \u001b[0mdtype\u001b[0m\u001b[0;34m=\u001b[0m\u001b[0mdtype\u001b[0m\u001b[0;34m)\u001b[0m\u001b[0;34m\u001b[0m\u001b[0;34m\u001b[0m\u001b[0m\n\u001b[0m\u001b[1;32m    381\u001b[0m \u001b[0;34m\u001b[0m\u001b[0m\n\u001b[1;32m    382\u001b[0m         \u001b[0;31m# At this point array is a NumPy ndarray. We convert it to an array\u001b[0m\u001b[0;34m\u001b[0m\u001b[0;34m\u001b[0m\u001b[0m\n",
            "\u001b[0;32m/usr/local/lib/python3.10/dist-packages/pandas/core/generic.py\u001b[0m in \u001b[0;36m__array__\u001b[0;34m(self, dtype)\u001b[0m\n\u001b[1;32m   2082\u001b[0m     \u001b[0;32mdef\u001b[0m \u001b[0m__array__\u001b[0m\u001b[0;34m(\u001b[0m\u001b[0mself\u001b[0m\u001b[0;34m,\u001b[0m \u001b[0mdtype\u001b[0m\u001b[0;34m:\u001b[0m \u001b[0mnpt\u001b[0m\u001b[0;34m.\u001b[0m\u001b[0mDTypeLike\u001b[0m \u001b[0;34m|\u001b[0m \u001b[0;32mNone\u001b[0m \u001b[0;34m=\u001b[0m \u001b[0;32mNone\u001b[0m\u001b[0;34m)\u001b[0m \u001b[0;34m->\u001b[0m \u001b[0mnp\u001b[0m\u001b[0;34m.\u001b[0m\u001b[0mndarray\u001b[0m\u001b[0;34m:\u001b[0m\u001b[0;34m\u001b[0m\u001b[0;34m\u001b[0m\u001b[0m\n\u001b[1;32m   2083\u001b[0m         \u001b[0mvalues\u001b[0m \u001b[0;34m=\u001b[0m \u001b[0mself\u001b[0m\u001b[0;34m.\u001b[0m\u001b[0m_values\u001b[0m\u001b[0;34m\u001b[0m\u001b[0;34m\u001b[0m\u001b[0m\n\u001b[0;32m-> 2084\u001b[0;31m         \u001b[0marr\u001b[0m \u001b[0;34m=\u001b[0m \u001b[0mnp\u001b[0m\u001b[0;34m.\u001b[0m\u001b[0masarray\u001b[0m\u001b[0;34m(\u001b[0m\u001b[0mvalues\u001b[0m\u001b[0;34m,\u001b[0m \u001b[0mdtype\u001b[0m\u001b[0;34m=\u001b[0m\u001b[0mdtype\u001b[0m\u001b[0;34m)\u001b[0m\u001b[0;34m\u001b[0m\u001b[0;34m\u001b[0m\u001b[0m\n\u001b[0m\u001b[1;32m   2085\u001b[0m         if (\n\u001b[1;32m   2086\u001b[0m             \u001b[0mastype_is_view\u001b[0m\u001b[0;34m(\u001b[0m\u001b[0mvalues\u001b[0m\u001b[0;34m.\u001b[0m\u001b[0mdtype\u001b[0m\u001b[0;34m,\u001b[0m \u001b[0marr\u001b[0m\u001b[0;34m.\u001b[0m\u001b[0mdtype\u001b[0m\u001b[0;34m)\u001b[0m\u001b[0;34m\u001b[0m\u001b[0;34m\u001b[0m\u001b[0m\n",
            "\u001b[0;31mValueError\u001b[0m: could not convert string to float: 'Nagaland'"
          ]
        }
      ],
      "source": [
        "# # # trying to train model but error due to different data type\n",
        "\n",
        "from sklearn.ensemble import RandomForestRegressor\n",
        "\n",
        "# Initialize the Random Forest model\n",
        "rf_model = RandomForestRegressor(n_estimators=100, random_state=42)\n",
        "\n",
        "# Train the model\n",
        "rf_model.fit(X_train, y_train)\n",
        "\n",
        "# Make predictions\n",
        "rf_pred = rf_model.predict(X_test)\n",
        "\n",
        "# Evaluate Random Forest performance\n",
        "rf_mse = mean_squared_error(y_test, rf_pred)\n",
        "rf_mae = mean_absolute_error(y_test, rf_pred)\n",
        "rf_r2 = r2_score(y_test, rf_pred)\n",
        "\n",
        "print(f\"Random Forest Regression - MSE: {rf_mse}, MAE: {rf_mae}, R-squared: {rf_r2}\")"
      ]
    },
    {
      "cell_type": "code",
      "execution_count": 28,
      "metadata": {
        "colab": {
          "base_uri": "https://localhost:8080/"
        },
        "id": "WK-sEhBuzMCt",
        "outputId": "b44235c8-e002-4917-b054-97ee8244fe78"
      },
      "outputs": [
        {
          "output_type": "stream",
          "name": "stdout",
          "text": [
            "State                object\n",
            "District             object\n",
            "Crop                 object\n",
            "Year                 object\n",
            "Season               object\n",
            "Area                float64\n",
            "Area Units           object\n",
            "Production          float64\n",
            "Production Units     object\n",
            "dtype: object\n"
          ]
        }
      ],
      "source": [
        "# Checking the data types\n",
        "print(X_train.dtypes)"
      ]
    },
    {
      "cell_type": "code",
      "execution_count": 29,
      "metadata": {
        "colab": {
          "base_uri": "https://localhost:8080/"
        },
        "id": "R-YvyXJnzbgR",
        "outputId": "cb2aedf8-63f7-45df-9b0a-2b3d53339d18"
      },
      "outputs": [
        {
          "output_type": "stream",
          "name": "stdout",
          "text": [
            "               State        District               Crop     Year      Season  \\\n",
            "160207      Nagaland            PHEK               Rice  2010-11      Kharif   \n",
            "32706     Tamil Nadu  RAMANATHAPURAM          Cashewnut  2003-04  Whole Year   \n",
            "51548   Chhattisgarh         SURGUJA              Maize  2004-05      Kharif   \n",
            "141986       Gujarat         NARMADA  Moong(Green Gram)  2012-13      Summer   \n",
            "264460    Tamil Nadu     KRISHNAGIRI               Ragi  2017-18      Kharif   \n",
            "\n",
            "       Area Units Production Units  \n",
            "160207    Hectare           Tonnes  \n",
            "32706     Hectare           Tonnes  \n",
            "51548     Hectare           Tonnes  \n",
            "141986    Hectare           Tonnes  \n",
            "264460    Hectare           Tonnes  \n"
          ]
        }
      ],
      "source": [
        "# checking all data types with objects\n",
        "non_numeric_cols = X_train.select_dtypes(include=['object']).columns\n",
        "print(X_train[non_numeric_cols].head())"
      ]
    },
    {
      "cell_type": "code",
      "execution_count": 30,
      "metadata": {
        "colab": {
          "base_uri": "https://localhost:8080/"
        },
        "id": "LNmhuj4T0SW6",
        "outputId": "d2f28b3e-7301-4f77-962b-b0e7d3402c74"
      },
      "outputs": [
        {
          "output_type": "stream",
          "name": "stdout",
          "text": [
            "Area                       float64\n",
            "Production                 float64\n",
            "State_Andhra Pradesh          bool\n",
            "State_Arunachal Pradesh       bool\n",
            "State_Assam                   bool\n",
            "                            ...   \n",
            "Year_2018-19                  bool\n",
            "Year_2019-20                  bool\n",
            "Year_2020-21                  bool\n",
            "Production Units_Nuts         bool\n",
            "Production Units_Tonnes       bool\n",
            "Length: 846, dtype: object\n"
          ]
        }
      ],
      "source": [
        "# Applying one-hot encoding to categorical columns\n",
        "X_train_encoded = pd.get_dummies(X_train, columns=['State', 'District', 'Crop', 'Season', 'Year', 'Area Units', 'Production Units'], drop_first=True)\n",
        "\n",
        "# Checking the data types after encoding\n",
        "print(X_train_encoded.dtypes)\n"
      ]
    },
    {
      "cell_type": "code",
      "execution_count": 31,
      "metadata": {
        "id": "BhRz8o-U0fkb"
      },
      "outputs": [],
      "source": [
        "# Applying the same one-hot encoding to the test data\n",
        "X_test_encoded = pd.get_dummies(X_test, columns=['State', 'District', 'Crop', 'Season', 'Year', 'Area Units', 'Production Units'], drop_first=True)\n",
        "\n",
        "# Aligning the columns in test data to match training data\n",
        "X_train_encoded, X_test_encoded = X_train_encoded.align(X_test_encoded, join='left', axis=1, fill_value=0)\n"
      ]
    },
    {
      "cell_type": "code",
      "execution_count": 32,
      "metadata": {
        "colab": {
          "base_uri": "https://localhost:8080/"
        },
        "id": "wAJpbu_U0j-s",
        "outputId": "4c542c18-ed0f-49ce-9ad4-37884cd2810b"
      },
      "outputs": [
        {
          "output_type": "stream",
          "name": "stdout",
          "text": [
            "Area                       0\n",
            "Production                 0\n",
            "State_Andhra Pradesh       0\n",
            "State_Arunachal Pradesh    0\n",
            "State_Assam                0\n",
            "                          ..\n",
            "Year_2018-19               0\n",
            "Year_2019-20               0\n",
            "Year_2020-21               0\n",
            "Production Units_Nuts      0\n",
            "Production Units_Tonnes    0\n",
            "Length: 846, dtype: int64\n"
          ]
        }
      ],
      "source": [
        "#checking is there any null in training data after encoding\n",
        "print(X_train_encoded.isnull().sum())\n"
      ]
    },
    {
      "cell_type": "code",
      "execution_count": null,
      "metadata": {
        "id": "xZ9WXG7O0yhC"
      },
      "outputs": [],
      "source": [
        "# # # System was crashing due to excessive Ram usage on-Cloud and Off-Cloud # # #\n",
        "import pandas as pd\n",
        "from sklearn.model_selection import train_test_split\n",
        "from sklearn.linear_model import LinearRegression\n",
        "from sklearn.ensemble import RandomForestRegressor\n",
        "from sklearn.ensemble import GradientBoostingRegressor\n",
        "from sklearn.metrics import mean_squared_error, r2_score\n",
        "\n",
        "lr_model = LinearRegression()\n",
        "lr_model.fit(X_train_encoded, y_train)\n",
        "y_pred_lr = lr_model.predict(X_test_encoded)\n",
        "print(\"Linear Regression\")\n",
        "print(\"Mean Squared Error:\", mean_squared_error(y_test, y_pred_lr))\n",
        "print(\"R^2 Score:\", r2_score(y_test, y_pred_lr))\n"
      ]
    },
    {
      "cell_type": "code",
      "source": [
        "#tried DownSampling to avoid overloading Resources\n",
        "\n",
        "import pandas as pd\n",
        "from sklearn.model_selection import train_test_split\n",
        "from sklearn.linear_model import LinearRegression\n",
        "from sklearn.ensemble import RandomForestRegressor\n",
        "from sklearn.ensemble import GradientBoostingRegressor\n",
        "from sklearn.metrics import mean_squared_error, r2_score\n",
        "\n",
        "#Down Sampling\n",
        "X_sampled, _, y_sampled, _ = train_test_split(X_train_encoded, y_train, test_size=0.9, random_state=42)"
      ],
      "metadata": {
        "id": "DBMWGlCrRr1Y"
      },
      "execution_count": 33,
      "outputs": []
    },
    {
      "cell_type": "code",
      "source": [
        "## Linear Regression\n",
        "\n",
        "#Initializing\n",
        "lr_model = LinearRegression()\n",
        "\n",
        "#Training\n",
        "lr_model.fit(X_sampled, y_sampled)\n",
        "\n",
        "#Prediction and Evaluation\n",
        "y_pred_lr = lr_model.predict(X_test_encoded)\n",
        "print(\"Linear Regression\")\n",
        "print(\"Mean Squared Error:\", mean_squared_error(y_test, y_pred_lr))\n",
        "print(\"R^2 Score:\", r2_score(y_test, y_pred_lr))"
      ],
      "metadata": {
        "colab": {
          "base_uri": "https://localhost:8080/"
        },
        "id": "DQcuVBe-R7rW",
        "outputId": "bd23a2f0-fb8d-44af-aead-8630fed769e2"
      },
      "execution_count": 35,
      "outputs": [
        {
          "output_type": "stream",
          "name": "stdout",
          "text": [
            "Linear Regression\n",
            "Mean Squared Error: 6133.196068944414\n",
            "R^2 Score: -4705.136504008494\n"
          ]
        }
      ]
    },
    {
      "cell_type": "code",
      "source": [
        "# Random Forest\n",
        "\n",
        "#Initializing\n",
        "rf_model = RandomForestRegressor(n_estimators=100, random_state=42)\n",
        "\n",
        "#Training\n",
        "rf_model.fit(X_sampled, y_sampled)\n",
        "\n",
        "#Prediction and Evaluation\n",
        "y_pred_rf = rf_model.predict(X_test_encoded)\n",
        "print(\"Random Forest\")\n",
        "print(\"Mean Squared Error:\", mean_squared_error(y_test, y_pred_rf))\n",
        "print(\"R^2 Score:\", r2_score(y_test, y_pred_rf))"
      ],
      "metadata": {
        "colab": {
          "base_uri": "https://localhost:8080/"
        },
        "id": "ltMPrU2FSKAr",
        "outputId": "b581630b-d4d3-4a4f-de36-56684efc1a84"
      },
      "execution_count": 36,
      "outputs": [
        {
          "output_type": "stream",
          "name": "stdout",
          "text": [
            "Random Forest\n",
            "Mean Squared Error: 0.022721773204039765\n",
            "R^2 Score: 0.9825650826894667\n"
          ]
        }
      ]
    },
    {
      "cell_type": "code",
      "source": [
        "#Gradient Boosting\n",
        "\n",
        "#Initializing\n",
        "gb_model = GradientBoostingRegressor(n_estimators=100, random_state=42)\n",
        "\n",
        "#Training\n",
        "gb_model.fit(X_sampled, y_sampled)\n",
        "\n",
        "#Prediction and Evaluation\n",
        "y_pred_gb = gb_model.predict(X_test_encoded)\n",
        "print(\"Gradient Boosting\")\n",
        "print(\"Mean Squared Error:\", mean_squared_error(y_test, y_pred_gb))\n",
        "print(\"R^2 Score:\", r2_score(y_test, y_pred_gb))"
      ],
      "metadata": {
        "colab": {
          "base_uri": "https://localhost:8080/"
        },
        "id": "VFVYKhZvTt3D",
        "outputId": "c297c6c0-e9a1-4bab-c0f3-cdf70afd1361"
      },
      "execution_count": 37,
      "outputs": [
        {
          "output_type": "stream",
          "name": "stdout",
          "text": [
            "Gradient Boosting\n",
            "Mean Squared Error: 0.06346909413092228\n",
            "R^2 Score: 0.951298765373191\n"
          ]
        }
      ]
    },
    {
      "cell_type": "markdown",
      "source": [
        "Linear Regression:\n",
        "Mean Squared Error (MSE): 6133.19\n",
        "R² Score: -4705.13\n",
        "The negative R² score and high MSE indicate that the Linear Regression model is performing very poorly. This could suggest that the data is not well-suited for a linear model, meaning that a straight-line approximation is not capturing the relationship between the input features and the target variable effectively.\n",
        "\n",
        "**Random Forest:\n",
        "Mean Squared Error (MSE): 0.0227\n",
        "R² Score: 0.98\n",
        "The Random Forest model has performed exceptionally well, with a very low MSE and a high R² score close to 1. This suggests that it can explain 98.26% of the variance in the data, indicating that it's a very good fit for the problem**\n",
        "\n",
        "Gradient Boosting:\n",
        "Mean Squared Error (MSE): 0.0635\n",
        "R² Score: 0.95\n",
        "The Gradient Boosting model also performs well, though slightly worse than Random Forest. Its R² score of 0.95 indicates that it explains 95.13% of the variance, which is still strong but slightly less optimal compared to the Random Forest."
      ],
      "metadata": {
        "id": "2AFm07g-U5vH"
      }
    }
  ],
  "metadata": {
    "colab": {
      "toc_visible": true,
      "provenance": []
    },
    "kernelspec": {
      "display_name": "Python 3",
      "name": "python3"
    },
    "language_info": {
      "name": "python"
    }
  },
  "nbformat": 4,
  "nbformat_minor": 0
}